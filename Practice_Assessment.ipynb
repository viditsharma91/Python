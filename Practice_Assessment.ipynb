{
 "cells": [
  {
   "cell_type": "markdown",
   "id": "ef84f6f7",
   "metadata": {},
   "source": [
    "### 1) Reassign the world “result negatve” in the following nested list to say “result positve” instead:\t\n",
    " list_1 = [1,2[3,'result negative”, 5]]"
   ]
  },
  {
   "cell_type": "code",
   "execution_count": 2,
   "id": "665d7ae3",
   "metadata": {},
   "outputs": [],
   "source": [
    "list_1 = [1,2,[3,'result negative',5]]"
   ]
  },
  {
   "cell_type": "code",
   "execution_count": 3,
   "id": "39500d7d",
   "metadata": {},
   "outputs": [
    {
     "data": {
      "text/plain": [
       "[1, 2, [3, 'result positive', 5]]"
      ]
     },
     "execution_count": 3,
     "metadata": {},
     "output_type": "execute_result"
    }
   ],
   "source": [
    "list_1[2][1] = 'result positive'     \n",
    "list_1"
   ]
  },
  {
   "cell_type": "markdown",
   "id": "313dbf43",
   "metadata": {},
   "source": [
    "### 2)  keys and indexing, grab\t“I_love_Barcelona” from the following dictonaries\t\n",
    "\t \n",
    "\t\n"
   ]
  },
  {
   "cell_type": "markdown",
   "id": "2a1b6355",
   "metadata": {},
   "source": [
    "d={‘k1:{‘k2’:’I\tlove\tBarcelona’}}"
   ]
  },
  {
   "cell_type": "code",
   "execution_count": 4,
   "id": "ccf699e3",
   "metadata": {},
   "outputs": [
    {
     "data": {
      "text/plain": [
       "'I love Barcelona'"
      ]
     },
     "execution_count": 4,
     "metadata": {},
     "output_type": "execute_result"
    }
   ],
   "source": [
    "d = {'k1':{'k2':'I love Barcelona'}}\n",
    "d['k1']['k2']                       "
   ]
  },
  {
   "cell_type": "markdown",
   "id": "b1c7e080",
   "metadata": {},
   "source": [
    "d={‘k1’:[{‘I love Belgrade’:[‘this\tis deep’,[‘I_love_Barcelona’]]}]}"
   ]
  },
  {
   "cell_type": "code",
   "execution_count": 5,
   "id": "635c15b0",
   "metadata": {},
   "outputs": [],
   "source": [
    "d = {'k1':[{'I love Belgrade':['this is deep',['I love Barcelona']]}]}"
   ]
  },
  {
   "cell_type": "code",
   "execution_count": 6,
   "id": "6d75e208",
   "metadata": {},
   "outputs": [
    {
     "data": {
      "text/plain": [
       "'I love Barcelona'"
      ]
     },
     "execution_count": 6,
     "metadata": {},
     "output_type": "execute_result"
    }
   ],
   "source": [
    "d['k1'][0]['I love Belgrade'][1][0]"
   ]
  },
  {
   "cell_type": "markdown",
   "id": "740aef6f",
   "metadata": {},
   "source": [
    "### 3) Use\ta\tset\tto\tfind\tthe\tunique\tvalue\tof\tthe\tfollowing\tlist:\t"
   ]
  },
  {
   "cell_type": "code",
   "execution_count": 9,
   "id": "14d7346c",
   "metadata": {},
   "outputs": [],
   "source": [
    "list_1 = [1,1,2,2,2,33,4,4,11,34,3,3,1]"
   ]
  },
  {
   "cell_type": "code",
   "execution_count": 10,
   "id": "e85b17ea",
   "metadata": {},
   "outputs": [
    {
     "name": "stdout",
     "output_type": "stream",
     "text": [
      "[1, 2, 33, 4, 34, 3, 11]\n"
     ]
    }
   ],
   "source": [
    "list_set = set(list_1)        \n",
    "list_unique = list(list_set) \n",
    "print(list_unique)"
   ]
  },
  {
   "cell_type": "markdown",
   "id": "1e9357cb",
   "metadata": {},
   "source": [
    "### 4) Use\tfor,\tsplit()\tand\tif\tto\tcreate\ta\tstatement\tthat\twill\tprint\tout\twords\tthat\tstart\twith\t‘a’"
   ]
  },
  {
   "cell_type": "code",
   "execution_count": 11,
   "id": "ce511705",
   "metadata": {},
   "outputs": [],
   "source": [
    "st = 'Hello! and how are you? Can I get you a beer or something?'"
   ]
  },
  {
   "cell_type": "code",
   "execution_count": 12,
   "id": "419bf6ca",
   "metadata": {},
   "outputs": [
    {
     "name": "stdout",
     "output_type": "stream",
     "text": [
      "and\n",
      "are\n",
      "a\n"
     ]
    }
   ],
   "source": [
    "for word in st.split():\n",
    "    if word[0] == 'a': \n",
    "        print(word)"
   ]
  },
  {
   "cell_type": "markdown",
   "id": "4d313a44",
   "metadata": {},
   "source": [
    "### 5) Given\ttwo\tinteger\tnumbers\treturn\ttheir\tproduct\tonly\tif\tthe\tproduct\tis\tequal\tto\tor\tlower\tthan\t100,\telse\treturn\ttheir\tsum.\t"
   ]
  },
  {
   "cell_type": "code",
   "execution_count": 13,
   "id": "d2115dbf",
   "metadata": {},
   "outputs": [
    {
     "name": "stdout",
     "output_type": "stream",
     "text": [
      "insert 1st number: 5\n",
      "insert 2nd number: 2\n",
      "10\n"
     ]
    }
   ],
   "source": [
    "num1 = int(input('insert 1st number: '))              \n",
    "num2 = int(input('insert 2nd number: '))               \n",
    "product = num1*num2                             \n",
    "res = (num1+num2) if product > 100 else product       \n",
    "print(res)"
   ]
  },
  {
   "cell_type": "markdown",
   "id": "ea71e097",
   "metadata": {},
   "source": [
    "### 6) Use\tlist\tcomprehension\tto\tcreate\ta\tlist\tof\tall\tnumbers\tbetween\t1\tand\t100\tthat\tare\tdivisible\tby\t2."
   ]
  },
  {
   "cell_type": "code",
   "execution_count": 14,
   "id": "235e0512",
   "metadata": {},
   "outputs": [
    {
     "name": "stdout",
     "output_type": "stream",
     "text": [
      "[2, 4, 6, 8, 10, 12, 14, 16, 18, 20, 22, 24, 26, 28, 30, 32, 34, 36, 38, 40, 42, 44, 46, 48, 50, 52, 54, 56, 58, 60, 62, 64, 66, 68, 70, 72, 74, 76, 78, 80, 82, 84, 86, 88, 90, 92, 94, 96, 98, 100]\n"
     ]
    }
   ],
   "source": [
    "lst = [x for x in range(1, 101)     \n",
    "       if x % 2 == 0]           \n",
    "print(lst)"
   ]
  },
  {
   "cell_type": "markdown",
   "id": "35a9e18d",
   "metadata": {},
   "source": [
    "### 7) Fill\tin\tthe\tLine\tclass\tmethods\tto\taccepts\tcoordinates\tas\ta\tpair\tof\ttuples\tand\treturn\tthe\tslope\tand\tdistance\tif\tthe\tline.\tUse\tthe\tformulas\ton\tthe\tright."
   ]
  },
  {
   "cell_type": "code",
   "execution_count": 15,
   "id": "c584ce3e",
   "metadata": {},
   "outputs": [],
   "source": [
    "class Line:\n",
    "    def __init__(self, coor1, coor2):            \n",
    "        self.coor1 = coor1\n",
    "        self.coor2 = coor2\n",
    "        \n",
    "    def distance(self):                          \n",
    "        x1,y1 = self.coor1\n",
    "        x2,y2 = self.coor2\n",
    "        return ((x2 - x1)**2 + (y2 - y1)**2)**0.5\n",
    "    \n",
    "    def slope(self):\n",
    "        x1,y1 = self.coor1\n",
    "        x2,y2 = self.coor2\n",
    "        return (y2 - y1) / (x2 - x1)\n",
    "    \n",
    "coordinate1 = (3 , 2)\n",
    "coordinate2 = (8 , 10)\n",
    "\n",
    "li = Line(coordinate1 , coordinate2)"
   ]
  },
  {
   "cell_type": "code",
   "execution_count": 16,
   "id": "c087562d",
   "metadata": {},
   "outputs": [
    {
     "data": {
      "text/plain": [
       "9.433981132056603"
      ]
     },
     "execution_count": 16,
     "metadata": {},
     "output_type": "execute_result"
    }
   ],
   "source": [
    "li.distance()"
   ]
  },
  {
   "cell_type": "code",
   "execution_count": 17,
   "id": "f2eade99",
   "metadata": {},
   "outputs": [
    {
     "data": {
      "text/plain": [
       "1.6"
      ]
     },
     "execution_count": 17,
     "metadata": {},
     "output_type": "execute_result"
    }
   ],
   "source": [
    "li.slope()"
   ]
  },
  {
   "cell_type": "markdown",
   "id": "79bfe2fc",
   "metadata": {},
   "source": [
    "### 8) Create\ta\tclass\tcalled\t\"Sphere\"\tand\tuse\ttwo\tfunc)ons\tto\treturn\tthe\tvolume\tof\ta\tcircle\tand\tits\tsurface\tarea,\tgiven\ta\tradius.\t"
   ]
  },
  {
   "cell_type": "code",
   "execution_count": 26,
   "id": "d60ff255",
   "metadata": {},
   "outputs": [
    {
     "name": "stdout",
     "output_type": "stream",
     "text": [
      "enter radius:6\n",
      "The surface area is:  452.38896\n",
      "The volume is: 904.7779199999999\n"
     ]
    }
   ],
   "source": [
    "from math import *\n",
    "class spheres():\n",
    "    def __init__(self,r):                                \n",
    "        self.radius = r\n",
    "        self.area = 0\n",
    "        self.volume = 0\n",
    "        \n",
    "    def get_radius(self):\n",
    "        return self.radius \n",
    "    \n",
    "    def surface_area(self):\n",
    "        r = self.radius\n",
    "        self.area = (4*3.14159)*(r*r)\n",
    "        return(self.area)\n",
    "    \n",
    "    def vlm(self):\n",
    "        r = self.radius\n",
    "        self.volume = (4/3)*3.14159*(r*r*r)\n",
    "        return(self.volume)\n",
    "    \n",
    "    def op_spheres():                                  \n",
    "        r = float(input('enter radius:'))               \n",
    "        s = spheres(r)\n",
    "        print('The surface area is: ', s.surface_area())\n",
    "        print('The volume is:', s.vlm())\n",
    "\n",
    "if __name__ == '__main__':\n",
    "    op_spheres()\n",
    "   \n"
   ]
  },
  {
   "cell_type": "code",
   "execution_count": null,
   "id": "48cdd36f",
   "metadata": {},
   "outputs": [],
   "source": []
  }
 ],
 "metadata": {
  "kernelspec": {
   "display_name": "Python 3",
   "language": "python",
   "name": "python3"
  },
  "language_info": {
   "codemirror_mode": {
    "name": "ipython",
    "version": 3
   },
   "file_extension": ".py",
   "mimetype": "text/x-python",
   "name": "python",
   "nbconvert_exporter": "python",
   "pygments_lexer": "ipython3",
   "version": "3.8.8"
  }
 },
 "nbformat": 4,
 "nbformat_minor": 5
}
